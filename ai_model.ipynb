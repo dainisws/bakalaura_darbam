{
 "cells": [
  {
   "cell_type": "code",
   "execution_count": 56,
   "id": "d5173099-b9ac-4499-b4a9-03d05e7aeab4",
   "metadata": {},
   "outputs": [],
   "source": [
    "import pandas as pd\n",
    "import numpy as np\n",
    "from time import time\n",
    "from sklearn.model_selection import train_test_split, cross_val_score\n",
    "from sklearn.preprocessing import StandardScaler, LabelEncoder\n",
    "from sklearn.metrics import classification_report, accuracy_score"
   ]
  },
  {
   "cell_type": "code",
   "execution_count": 57,
   "id": "12b0881d-d724-4e01-b785-c9b2352938db",
   "metadata": {},
   "outputs": [],
   "source": [
    "data1 = pd.read_csv('C:/Users/daini/OneDrive/Dators/ai/MachineLearningCSV/MachineLearningCVE/Monday-WorkingHours.pcap_ISCX.csv')\n",
    "data2 = pd.read_csv('C:/Users/daini/OneDrive/Dators/ai/MachineLearningCSV/MachineLearningCVE/Friday-WorkingHours-Afternoon-DDos.pcap_ISCX.csv')\n",
    "data3 = pd.read_csv('C:/Users/daini/OneDrive/Dators/ai/MachineLearningCSV/MachineLearningCVE/Friday-WorkingHours-Afternoon-PortScan.pcap_ISCX.csv')\n",
    "data4 = pd.read_csv('C:/Users/daini/OneDrive/Dators/ai/MachineLearningCSV/MachineLearningCVE/Friday-WorkingHours-Morning.pcap_ISCX.csv')\n",
    "data5 = pd.read_csv('C:/Users/daini/OneDrive/Dators/ai/MachineLearningCSV/MachineLearningCVE/Thursday-WorkingHours-Afternoon-Infilteration.pcap_ISCX.csv')\n",
    "data6 = pd.read_csv('C:/Users/daini/OneDrive/Dators/ai/MachineLearningCSV/MachineLearningCVE/Thursday-WorkingHours-Morning-WebAttacks.pcap_ISCX.csv')\n",
    "data7 = pd.read_csv('C:/Users/daini/OneDrive/Dators/ai/MachineLearningCSV/MachineLearningCVE/Tuesday-WorkingHours.pcap_ISCX.csv')\n",
    "data8 = pd.read_csv('C:/Users/daini/OneDrive/Dators/ai/MachineLearningCSV/MachineLearningCVE/Wednesday-workingHours.pcap_ISCX.csv')\n",
    "data9 = pd.read_csv('C:/Users/daini/OneDrive/Dators/ai/MachineLearningCSV/MachineLearningCVE/CICIDS2017_sample_km.csv')"
   ]
  },
  {
   "cell_type": "code",
   "execution_count": 58,
   "id": "630ece56-227b-4b31-b80c-01d9a012ab7c",
   "metadata": {},
   "outputs": [
    {
     "name": "stdout",
     "output_type": "stream",
     "text": [
      "New dimension:\n",
      "Number of rows: 692703, Number of columns: 79\n",
      "Total cells: 54723537\n"
     ]
    },
    {
     "data": {
      "text/plain": [
       "Index(['Destination Port', 'Flow Duration', 'Total Fwd Packets',\n",
       "       'Total Backward Packets', 'Total Length of Fwd Packets',\n",
       "       'Total Length of Bwd Packets', 'Fwd Packet Length Max',\n",
       "       'Fwd Packet Length Min', 'Fwd Packet Length Mean',\n",
       "       'Fwd Packet Length Std', 'Bwd Packet Length Max',\n",
       "       'Bwd Packet Length Min', 'Bwd Packet Length Mean',\n",
       "       'Bwd Packet Length Std', 'Flow Bytes/s', 'Flow Packets/s',\n",
       "       'Flow IAT Mean', 'Flow IAT Std', 'Flow IAT Max', 'Flow IAT Min',\n",
       "       'Fwd IAT Total', 'Fwd IAT Mean', 'Fwd IAT Std', 'Fwd IAT Max',\n",
       "       'Fwd IAT Min', 'Bwd IAT Total', 'Bwd IAT Mean', 'Bwd IAT Std',\n",
       "       'Bwd IAT Max', 'Bwd IAT Min', 'Fwd PSH Flags', 'Bwd PSH Flags',\n",
       "       'Fwd URG Flags', 'Bwd URG Flags', 'Fwd Header Length',\n",
       "       'Bwd Header Length', 'Fwd Packets/s', 'Bwd Packets/s',\n",
       "       'Min Packet Length', 'Max Packet Length', 'Packet Length Mean',\n",
       "       'Packet Length Std', 'Packet Length Variance', 'FIN Flag Count',\n",
       "       'SYN Flag Count', 'RST Flag Count', 'PSH Flag Count', 'ACK Flag Count',\n",
       "       'URG Flag Count', 'CWE Flag Count', 'ECE Flag Count', 'Down/Up Ratio',\n",
       "       'Average Packet Size', 'Avg Fwd Segment Size', 'Avg Bwd Segment Size',\n",
       "       'Fwd Header Length.1', 'Fwd Avg Bytes/Bulk', 'Fwd Avg Packets/Bulk',\n",
       "       'Fwd Avg Bulk Rate', 'Bwd Avg Bytes/Bulk', 'Bwd Avg Packets/Bulk',\n",
       "       'Bwd Avg Bulk Rate', 'Subflow Fwd Packets', 'Subflow Fwd Bytes',\n",
       "       'Subflow Bwd Packets', 'Subflow Bwd Bytes', 'Init_Win_bytes_forward',\n",
       "       'Init_Win_bytes_backward', 'act_data_pkt_fwd', 'min_seg_size_forward',\n",
       "       'Active Mean', 'Active Std', 'Active Max', 'Active Min', 'Idle Mean',\n",
       "       'Idle Std', 'Idle Max', 'Idle Min', 'Label'],\n",
       "      dtype='object')"
      ]
     },
     "execution_count": 58,
     "metadata": {},
     "output_type": "execute_result"
    }
   ],
   "source": [
    "data_list = [data8]\n",
    "data_combined = pd.concat(data_list)\n",
    "\n",
    "# Izvada datu dimensijas\n",
    "rows, cols = data_combined.shape\n",
    "print('New dimension:')\n",
    "print(f'Number of rows: {rows}, Number of columns: {cols}')\n",
    "print(f'Total cells: {rows * cols}')\n",
    "\n",
    "# Deleting dataframes after concating to save memory\n",
    "for d in data_list: del d\n",
    "\n",
    "# Noņem liekās atstarpes no kolonnu nosaukumiem\n",
    "col_names = {col: col.strip() for col in data_combined.columns}\n",
    "data_combined.rename(columns = col_names, inplace = True)\n",
    "\n",
    "data_combined.columns"
   ]
  },
  {
   "cell_type": "code",
   "execution_count": 59,
   "id": "7dacdc54-4782-4142-8f04-36c3ef47c520",
   "metadata": {},
   "outputs": [
    {
     "name": "stdout",
     "output_type": "stream",
     "text": [
      "<class 'pandas.core.frame.DataFrame'>\n",
      "RangeIndex: 692703 entries, 0 to 692702\n",
      "Data columns (total 79 columns):\n",
      " #   Column                       Non-Null Count   Dtype  \n",
      "---  ------                       --------------   -----  \n",
      " 0   Destination Port             692703 non-null  int64  \n",
      " 1   Flow Duration                692703 non-null  int64  \n",
      " 2   Total Fwd Packets            692703 non-null  int64  \n",
      " 3   Total Backward Packets       692703 non-null  int64  \n",
      " 4   Total Length of Fwd Packets  692703 non-null  int64  \n",
      " 5   Total Length of Bwd Packets  692703 non-null  int64  \n",
      " 6   Fwd Packet Length Max        692703 non-null  int64  \n",
      " 7   Fwd Packet Length Min        692703 non-null  int64  \n",
      " 8   Fwd Packet Length Mean       692703 non-null  float64\n",
      " 9   Fwd Packet Length Std        692703 non-null  float64\n",
      " 10  Bwd Packet Length Max        692703 non-null  int64  \n",
      " 11  Bwd Packet Length Min        692703 non-null  int64  \n",
      " 12  Bwd Packet Length Mean       692703 non-null  float64\n",
      " 13  Bwd Packet Length Std        692703 non-null  float64\n",
      " 14  Flow Bytes/s                 691695 non-null  float64\n",
      " 15  Flow Packets/s               692703 non-null  float64\n",
      " 16  Flow IAT Mean                692703 non-null  float64\n",
      " 17  Flow IAT Std                 692703 non-null  float64\n",
      " 18  Flow IAT Max                 692703 non-null  int64  \n",
      " 19  Flow IAT Min                 692703 non-null  int64  \n",
      " 20  Fwd IAT Total                692703 non-null  int64  \n",
      " 21  Fwd IAT Mean                 692703 non-null  float64\n",
      " 22  Fwd IAT Std                  692703 non-null  float64\n",
      " 23  Fwd IAT Max                  692703 non-null  int64  \n",
      " 24  Fwd IAT Min                  692703 non-null  int64  \n",
      " 25  Bwd IAT Total                692703 non-null  int64  \n",
      " 26  Bwd IAT Mean                 692703 non-null  float64\n",
      " 27  Bwd IAT Std                  692703 non-null  float64\n",
      " 28  Bwd IAT Max                  692703 non-null  int64  \n",
      " 29  Bwd IAT Min                  692703 non-null  int64  \n",
      " 30  Fwd PSH Flags                692703 non-null  int64  \n",
      " 31  Bwd PSH Flags                692703 non-null  int64  \n",
      " 32  Fwd URG Flags                692703 non-null  int64  \n",
      " 33  Bwd URG Flags                692703 non-null  int64  \n",
      " 34  Fwd Header Length            692703 non-null  int64  \n",
      " 35  Bwd Header Length            692703 non-null  int64  \n",
      " 36  Fwd Packets/s                692703 non-null  float64\n",
      " 37  Bwd Packets/s                692703 non-null  float64\n",
      " 38  Min Packet Length            692703 non-null  int64  \n",
      " 39  Max Packet Length            692703 non-null  int64  \n",
      " 40  Packet Length Mean           692703 non-null  float64\n",
      " 41  Packet Length Std            692703 non-null  float64\n",
      " 42  Packet Length Variance       692703 non-null  float64\n",
      " 43  FIN Flag Count               692703 non-null  int64  \n",
      " 44  SYN Flag Count               692703 non-null  int64  \n",
      " 45  RST Flag Count               692703 non-null  int64  \n",
      " 46  PSH Flag Count               692703 non-null  int64  \n",
      " 47  ACK Flag Count               692703 non-null  int64  \n",
      " 48  URG Flag Count               692703 non-null  int64  \n",
      " 49  CWE Flag Count               692703 non-null  int64  \n",
      " 50  ECE Flag Count               692703 non-null  int64  \n",
      " 51  Down/Up Ratio                692703 non-null  int64  \n",
      " 52  Average Packet Size          692703 non-null  float64\n",
      " 53  Avg Fwd Segment Size         692703 non-null  float64\n",
      " 54  Avg Bwd Segment Size         692703 non-null  float64\n",
      " 55  Fwd Header Length.1          692703 non-null  int64  \n",
      " 56  Fwd Avg Bytes/Bulk           692703 non-null  int64  \n",
      " 57  Fwd Avg Packets/Bulk         692703 non-null  int64  \n",
      " 58  Fwd Avg Bulk Rate            692703 non-null  int64  \n",
      " 59  Bwd Avg Bytes/Bulk           692703 non-null  int64  \n",
      " 60  Bwd Avg Packets/Bulk         692703 non-null  int64  \n",
      " 61  Bwd Avg Bulk Rate            692703 non-null  int64  \n",
      " 62  Subflow Fwd Packets          692703 non-null  int64  \n",
      " 63  Subflow Fwd Bytes            692703 non-null  int64  \n",
      " 64  Subflow Bwd Packets          692703 non-null  int64  \n",
      " 65  Subflow Bwd Bytes            692703 non-null  int64  \n",
      " 66  Init_Win_bytes_forward       692703 non-null  int64  \n",
      " 67  Init_Win_bytes_backward      692703 non-null  int64  \n",
      " 68  act_data_pkt_fwd             692703 non-null  int64  \n",
      " 69  min_seg_size_forward         692703 non-null  int64  \n",
      " 70  Active Mean                  692703 non-null  float64\n",
      " 71  Active Std                   692703 non-null  float64\n",
      " 72  Active Max                   692703 non-null  int64  \n",
      " 73  Active Min                   692703 non-null  int64  \n",
      " 74  Idle Mean                    692703 non-null  float64\n",
      " 75  Idle Std                     692703 non-null  float64\n",
      " 76  Idle Max                     692703 non-null  int64  \n",
      " 77  Idle Min                     692703 non-null  int64  \n",
      " 78  Label                        692703 non-null  object \n",
      "dtypes: float64(24), int64(54), object(1)\n",
      "memory usage: 417.5+ MB\n"
     ]
    }
   ],
   "source": [
    "data_combined.info()"
   ]
  },
  {
   "cell_type": "code",
   "execution_count": 60,
   "id": "1fdc90dc-9ff9-4133-b832-d10dd5529374",
   "metadata": {},
   "outputs": [
    {
     "name": "stdout",
     "output_type": "stream",
     "text": [
      "Number of duplicates: 81909\n"
     ]
    }
   ],
   "source": [
    "# Daru tīrīšana\n",
    "# Dublētu vērtību identificēšana\n",
    "dups = data_combined[data_combined.duplicated()]\n",
    "print(f'Number of duplicates: {len(dups)}')"
   ]
  },
  {
   "cell_type": "code",
   "execution_count": 61,
   "id": "74785600-f610-4391-9b7a-428867775ad2",
   "metadata": {},
   "outputs": [
    {
     "data": {
      "text/plain": [
       "(610794, 79)"
      ]
     },
     "execution_count": 61,
     "metadata": {},
     "output_type": "execute_result"
    }
   ],
   "source": [
    "# Noņemam visus dubultos ierakstus\n",
    "data_combined.drop_duplicates(inplace = True)\n",
    "data_combined.shape"
   ]
  },
  {
   "cell_type": "code",
   "execution_count": 62,
   "id": "be7fc7aa-0097-46ac-b006-f10c4baa4f5c",
   "metadata": {},
   "outputs": [
    {
     "name": "stdout",
     "output_type": "stream",
     "text": [
      "Flow Bytes/s    61\n",
      "dtype: int64\n"
     ]
    }
   ],
   "source": [
    "# Trūkstošo vērtību noteikšana\n",
    "missing_val = data_combined.isna().sum()\n",
    "print(missing_val.loc[missing_val > 0])"
   ]
  },
  {
   "cell_type": "code",
   "execution_count": 63,
   "id": "20decd05-7db8-439a-baad-9f87c1aad0bc",
   "metadata": {},
   "outputs": [
    {
     "name": "stdout",
     "output_type": "stream",
     "text": [
      "Flow Bytes/s      241\n",
      "Flow Packets/s    302\n",
      "dtype: int64\n"
     ]
    }
   ],
   "source": [
    "# Bezgalības vērtību pārbaude\n",
    "numeric_cols = data_combined.select_dtypes(include = np.number).columns\n",
    "inf_count = np.isinf(data_combined[numeric_cols]).sum()\n",
    "print(inf_count[inf_count > 0])"
   ]
  },
  {
   "cell_type": "code",
   "execution_count": 64,
   "id": "b167aee2-49f1-49a1-9d30-554be2147d70",
   "metadata": {},
   "outputs": [
    {
     "name": "stdout",
     "output_type": "stream",
     "text": [
      "Initial missing values: 61\n",
      "Missing values after processing infinite values: 604\n"
     ]
    }
   ],
   "source": [
    "# Jebkuru bezgalīgu vērtību (pozitīvu vai negatīvu) aizstāšana ar NaN (nevis skaitli)\n",
    "print(f'Initial missing values: {data_combined.isna().sum().sum()}')\n",
    "\n",
    "data_combined.replace([np.inf, -np.inf], np.nan, inplace = True)\n",
    "\n",
    "print(f'Missing values after processing infinite values: {data_combined.isna().sum().sum()}')"
   ]
  },
  {
   "cell_type": "code",
   "execution_count": 65,
   "id": "e88d2133-a278-486f-bf6c-682cd050ac15",
   "metadata": {},
   "outputs": [
    {
     "name": "stdout",
     "output_type": "stream",
     "text": [
      "Flow Bytes/s      302\n",
      "Flow Packets/s    302\n",
      "dtype: int64\n"
     ]
    }
   ],
   "source": [
    "# Identificējam un saskaitītām trūkstošās vērtības\n",
    "missing = data_combined.isna().sum()\n",
    "print(missing.loc[missing > 0])"
   ]
  },
  {
   "cell_type": "code",
   "execution_count": 66,
   "id": "c3a5bba0-03a0-4e2a-b434-8c8798c03860",
   "metadata": {},
   "outputs": [
    {
     "name": "stdout",
     "output_type": "stream",
     "text": [
      "Flow Bytes/s      0.05\n",
      "Flow Packets/s    0.05\n",
      "dtype: float64\n"
     ]
    }
   ],
   "source": [
    "# Trūkstošo vērtību procentuālās daļas aprēķināšana\n",
    "mis_per = (missing / len(data_combined)) * 100\n",
    "print(mis_per[mis_per > 0].round(2))"
   ]
  },
  {
   "cell_type": "code",
   "execution_count": 67,
   "id": "a06b67fb-e1ed-4798-974d-fe970fde0ccf",
   "metadata": {},
   "outputs": [
    {
     "name": "stdout",
     "output_type": "stream",
     "text": [
      "Number of 'Flow Bytes/s' missing values: 0\n",
      "Number of 'Flow Packets/s' missing values: 0\n"
     ]
    }
   ],
   "source": [
    "# Mediānas noteikšana\n",
    "med_flow_bytes = data_combined['Flow Bytes/s'].median()\n",
    "med_flow_packets = data_combined['Flow Packets/s'].median()\n",
    "\n",
    "# Trūkstošo vērtību aizpildīšana ar mediānu\n",
    "data_combined['Flow Bytes/s'] = data_combined['Flow Bytes/s'].fillna(med_flow_bytes)\n",
    "data_combined['Flow Packets/s'] = data_combined['Flow Packets/s'].fillna(med_flow_packets)\n",
    "\n",
    "print('Number of \\'Flow Bytes/s\\' missing values:', data_combined['Flow Bytes/s'].isna().sum())\n",
    "print('Number of \\'Flow Packets/s\\' missing values:', data_combined['Flow Packets/s'].isna().sum())"
   ]
  },
  {
   "cell_type": "code",
   "execution_count": 68,
   "id": "9eb50303-ab04-4b93-a088-a1df32307d8e",
   "metadata": {},
   "outputs": [
    {
     "data": {
      "image/png": "[encoded data removed]",
      "text/plain": [
       "<Figure size 1200x600 with 1 Axes>"
      ]
     },
     "metadata": {},
     "output_type": "display_data"
    }
   ],
   "source": [
    "# Creating a dictionary that maps each label to its attack type\n",
    "attack_map = {\n",
    "    'BENIGN': 'BENIGN',\n",
    "    'DDoS': 'DDoS',\n",
    "    'DoS Hulk': 'DoS',\n",
    "    'DoS GoldenEye': 'DoS',\n",
    "    'DoS slowloris': 'DoS',\n",
    "    'DoS Slowhttptest': 'DoS',\n",
    "    'PortScan': 'Port Scan',\n",
    "    'FTP-Patator': 'Brute Force',\n",
    "    'SSH-Patator': 'Brute Force',\n",
    "    'Bot': 'Bot',\n",
    "    'Web Attack � Brute Force': 'Web Attack',\n",
    "    'Web Attack � XSS': 'Web Attack',\n",
    "    'Web Attack � Sql Injection': 'Web Attack',\n",
    "    'Infiltration': 'Infiltration',\n",
    "    'Heartbleed': 'Heartbleed'\n",
    "}\n",
    "\n",
    "# Ja \"Attack Type\" kolonna nav, izmanto \"Label\" tās vietā\n",
    "data_combined['Attack Type'] = data_combined['Label'].map(attack_map)\n",
    "\n",
    "import matplotlib.pyplot as plt\n",
    "import seaborn as sns\n",
    "\n",
    "# Izfiltrē visus izņemot \"BENIGN\"\n",
    "attacks = data_combined.loc[data_combined['Attack Type'] != 'BENIGN']\n",
    "\n",
    "plt.figure(figsize=(12, 6))\n",
    "ax = sns.countplot(\n",
    "    x='Attack Type',\n",
    "    hue='Attack Type',\n",
    "    data=attacks,\n",
    "    palette='pastel',\n",
    "    order=attacks['Attack Type'].value_counts().index,\n",
    "    legend=False\n",
    ")\n",
    "plt.title('Uzbrukumu veidi (izņemot BENIGN)')\n",
    "plt.xlabel('Uzbrukuma veids')\n",
    "plt.ylabel('Skaits')\n",
    "plt.xticks(rotation=45)\n",
    "\n",
    "# Skaitliskie anotācijas virs stabiņiem\n",
    "for p in ax.patches:\n",
    "    ax.annotate(\n",
    "        f'{p.get_height():.0f}', \n",
    "        (p.get_x() + p.get_width() / 2., p.get_height() * 1.01), \n",
    "        ha='center'\n",
    "    )\n",
    "\n",
    "plt.tight_layout()\n",
    "plt.show()\n"
   ]
  },
  {
   "cell_type": "code",
   "execution_count": 69,
   "id": "6350563f-766b-467f-a071-869eb61c820b",
   "metadata": {},
   "outputs": [],
   "source": [
    "# Atdala iezīmes (X) un mērķa mainīgo (y)\n",
    "X = data_combined.drop(['Label', 'Attack Type'], axis=1)\n",
    "y = data_combined['Label']\n",
    "\n",
    "# Konvertē mērķa mainīgo (Label) uz skaitlisko vērtību ar LabelEncoder\n",
    "le = LabelEncoder()\n",
    "y_encoded = le.fit_transform(y)\n",
    "\n",
    "# Sadala datus treniņu un testēšanas kopās\n",
    "X_train, X_test, y_train, y_test = train_test_split(X, y_encoded, test_size=0.3, random_state=0)\n",
    "\n",
    "# Standartizē datu iezīmes\n",
    "scaler = StandardScaler()\n",
    "X_train = scaler.fit_transform(X_train)\n",
    "X_test = scaler.transform(X_test)"
   ]
  },
  {
   "cell_type": "code",
   "execution_count": 70,
   "id": "b6f15fa9-2c62-4580-8fec-586bbb5e63f3",
   "metadata": {},
   "outputs": [
    {
     "name": "stdout",
     "output_type": "stream",
     "text": [
      "Classifier trained in 9.217 seconds.\n",
      "Predicted in 0.059 seconds\n",
      "📊 Decision Tree Model\n",
      "Accuracy on test set: 0.9854288661\n"
     ]
    }
   ],
   "source": [
    "from sklearn.tree import DecisionTreeClassifier\n",
    "# Apmāca Decision Tree modeli\n",
    "dt = DecisionTreeClassifier(max_depth=6)\n",
    "t0 = time()\n",
    "dt.fit(X_train, y_train)\n",
    "tt0 = time() - t0\n",
    "print (\"Classifier trained in {} seconds.\".format(round(tt0, 3)))\n",
    "\n",
    "t1 = time()\n",
    "# Paredz rezultātus uz testu datiem\n",
    "y_pred_dt = dt.predict(X_test)\n",
    "tt1 = time() - t1\n",
    "print (\"Predicted in {} seconds\".format(round(tt1,3)))\n",
    "# Novērtē precizitāti\n",
    "accuracy_dt = accuracy_score(y_test, y_pred_dt)\n",
    "\n",
    "# Izvada rezultātu\n",
    "print('📊 Decision Tree Model')\n",
    "print(f'Accuracy on test set: {accuracy_dt:.10f}')"
   ]
  },
  {
   "cell_type": "code",
   "execution_count": 71,
   "id": "f693a048-5606-4098-bf7c-d6e2ee137ede",
   "metadata": {},
   "outputs": [
    {
     "name": "stdout",
     "output_type": "stream",
     "text": [
      "Classifier trained in 0.139 seconds.\n",
      "Predicted in 113.356 seconds\n",
      "📊 K-Nearest Neighbors (KNN) Model\n",
      "Accuracy on test set: 0.9986629484\n"
     ]
    }
   ],
   "source": [
    "from sklearn.neighbors import KNeighborsClassifier\n",
    "\n",
    "# Inicializē KNN modeli (piemēram, ar k=5)\n",
    "knn = KNeighborsClassifier(n_neighbors=5)\n",
    "\n",
    "# Apmāca modeli\n",
    "t2 = time()\n",
    "knn.fit(X_train, y_train)\n",
    "tt2 = time() - t2\n",
    "print(\"Classifier trained in {} seconds.\".format(round(tt2, 3)))\n",
    "\n",
    "# Paredz rezultātus uz testu datiem\n",
    "t3 = time()\n",
    "y_pred_knn = knn.predict(X_test)\n",
    "tt3 = time() - t3\n",
    "print(\"Predicted in {} seconds\".format(round(tt3, 3)))\n",
    "\n",
    "# Novērtē precizitāti\n",
    "accuracy_knn = accuracy_score(y_test, y_pred_knn)\n",
    "\n",
    "# Izvada rezultātu\n",
    "print('📊 K-Nearest Neighbors (KNN) Model')\n",
    "print(f'Accuracy on test set: {accuracy_knn:.10f}')"
   ]
  },
  {
   "cell_type": "code",
   "execution_count": 72,
   "id": "556a4f2e-e760-44c6-aed4-368f775d45ec",
   "metadata": {},
   "outputs": [
    {
     "name": "stdout",
     "output_type": "stream",
     "text": [
      "New dimension:\n",
      "Number of rows: 26800, Number of columns: 78\n",
      "Total cells: 2090400\n",
      "<class 'pandas.core.frame.DataFrame'>\n",
      "RangeIndex: 26800 entries, 0 to 26799\n",
      "Data columns (total 78 columns):\n",
      " #   Column                       Non-Null Count  Dtype  \n",
      "---  ------                       --------------  -----  \n",
      " 0   Flow Duration                26800 non-null  float64\n",
      " 1   Total Fwd Packets            26800 non-null  float64\n",
      " 2   Total Backward Packets       26800 non-null  float64\n",
      " 3   Total Length of Fwd Packets  26800 non-null  float64\n",
      " 4   Total Length of Bwd Packets  26800 non-null  float64\n",
      " 5   Fwd Packet Length Max        26800 non-null  float64\n",
      " 6   Fwd Packet Length Min        26800 non-null  float64\n",
      " 7   Fwd Packet Length Mean       26800 non-null  float64\n",
      " 8   Fwd Packet Length Std        26800 non-null  float64\n",
      " 9   Bwd Packet Length Max        26800 non-null  float64\n",
      " 10  Bwd Packet Length Min        26800 non-null  float64\n",
      " 11  Bwd Packet Length Mean       26800 non-null  float64\n",
      " 12  Bwd Packet Length Std        26800 non-null  float64\n",
      " 13  Flow Bytes/s                 26800 non-null  float64\n",
      " 14  Flow Packets/s               26800 non-null  float64\n",
      " 15  Flow IAT Mean                26800 non-null  float64\n",
      " 16  Flow IAT Std                 26800 non-null  float64\n",
      " 17  Flow IAT Max                 26800 non-null  float64\n",
      " 18  Flow IAT Min                 26800 non-null  float64\n",
      " 19  Fwd IAT Total                26800 non-null  float64\n",
      " 20  Fwd IAT Mean                 26800 non-null  float64\n",
      " 21  Fwd IAT Std                  26800 non-null  float64\n",
      " 22  Fwd IAT Max                  26800 non-null  float64\n",
      " 23  Fwd IAT Min                  26800 non-null  float64\n",
      " 24  Bwd IAT Total                26800 non-null  float64\n",
      " 25  Bwd IAT Mean                 26800 non-null  float64\n",
      " 26  Bwd IAT Std                  26800 non-null  float64\n",
      " 27  Bwd IAT Max                  26800 non-null  float64\n",
      " 28  Bwd IAT Min                  26800 non-null  float64\n",
      " 29  Fwd PSH Flags                26800 non-null  float64\n",
      " 30  Bwd PSH Flags                26800 non-null  float64\n",
      " 31  Fwd URG Flags                26800 non-null  float64\n",
      " 32  Bwd URG Flags                26800 non-null  float64\n",
      " 33  Fwd Header Length            26800 non-null  float64\n",
      " 34  Bwd Header Length            26800 non-null  float64\n",
      " 35  Fwd Packets/s                26800 non-null  float64\n",
      " 36  Bwd Packets/s                26800 non-null  float64\n",
      " 37  Min Packet Length            26800 non-null  float64\n",
      " 38  Max Packet Length            26800 non-null  float64\n",
      " 39  Packet Length Mean           26800 non-null  float64\n",
      " 40  Packet Length Std            26800 non-null  float64\n",
      " 41  Packet Length Variance       26800 non-null  float64\n",
      " 42  FIN Flag Count               26800 non-null  float64\n",
      " 43  SYN Flag Count               26800 non-null  float64\n",
      " 44  RST Flag Count               26800 non-null  float64\n",
      " 45  PSH Flag Count               26800 non-null  float64\n",
      " 46  ACK Flag Count               26800 non-null  float64\n",
      " 47  URG Flag Count               26800 non-null  float64\n",
      " 48  CWE Flag Count               26800 non-null  float64\n",
      " 49  ECE Flag Count               26800 non-null  float64\n",
      " 50  Down/Up Ratio                26800 non-null  float64\n",
      " 51  Average Packet Size          26800 non-null  float64\n",
      " 52  Avg Fwd Segment Size         26800 non-null  float64\n",
      " 53  Avg Bwd Segment Size         26800 non-null  float64\n",
      " 54  Fwd Header Length.1          26800 non-null  float64\n",
      " 55  Fwd Avg Bytes/Bulk           26800 non-null  float64\n",
      " 56  Fwd Avg Packets/Bulk         26800 non-null  float64\n",
      " 57  Fwd Avg Bulk Rate            26800 non-null  float64\n",
      " 58  Bwd Avg Bytes/Bulk           26800 non-null  float64\n",
      " 59  Bwd Avg Packets/Bulk         26800 non-null  float64\n",
      " 60  Bwd Avg Bulk Rate            26800 non-null  float64\n",
      " 61  Subflow Fwd Packets          26800 non-null  float64\n",
      " 62  Subflow Fwd Bytes            26800 non-null  float64\n",
      " 63  Subflow Bwd Packets          26800 non-null  float64\n",
      " 64  Subflow Bwd Bytes            26800 non-null  float64\n",
      " 65  Init_Win_bytes_forward       26800 non-null  float64\n",
      " 66  Init_Win_bytes_backward      26800 non-null  float64\n",
      " 67  act_data_pkt_fwd             26800 non-null  float64\n",
      " 68  min_seg_size_forward         26800 non-null  float64\n",
      " 69  Active Mean                  26800 non-null  float64\n",
      " 70  Active Std                   26800 non-null  float64\n",
      " 71  Active Max                   26800 non-null  float64\n",
      " 72  Active Min                   26800 non-null  float64\n",
      " 73  Idle Mean                    26800 non-null  float64\n",
      " 74  Idle Std                     26800 non-null  float64\n",
      " 75  Idle Max                     26800 non-null  float64\n",
      " 76  Idle Min                     26800 non-null  float64\n",
      " 77  Label                        26800 non-null  int64  \n",
      "dtypes: float64(77), int64(1)\n",
      "memory usage: 15.9 MB\n"
     ]
    }
   ],
   "source": [
    "from sklearn.neighbors import KNeighborsClassifier\n",
    "# Izvada datu dimensijas\n",
    "rows_knn, cols_knn = data9.shape\n",
    "print('New dimension:')\n",
    "print(f'Number of rows: {rows_knn}, Number of columns: {cols_knn}')\n",
    "print(f'Total cells: {rows_knn * cols_knn}')\n",
    "\n",
    "# Noņem liekās atstarpes no kolonnu nosaukumiem\n",
    "col_names_knn = {col_knn: col_knn.strip() for col_knn in data9.columns}\n",
    "data9.rename(columns=col_names_knn, inplace=True)\n",
    "\n",
    "# Datu info\n",
    "data9.info()"
   ]
  },
  {
   "cell_type": "code",
   "execution_count": 73,
   "id": "7854a286-c299-4a04-b1a6-18ec85bcd19b",
   "metadata": {},
   "outputs": [
    {
     "name": "stdout",
     "output_type": "stream",
     "text": [
      "Number of duplicates: 2675\n"
     ]
    }
   ],
   "source": [
    "# Daru tīrīšana\n",
    "# Dublētu vērtību identificēšana\n",
    "dups_knn = data9[data9.duplicated()]\n",
    "print(f'Number of duplicates: {len(dups_knn)}')"
   ]
  },
  {
   "cell_type": "code",
   "execution_count": 74,
   "id": "cd3b4ff1-321b-4764-a495-8cbe816f7177",
   "metadata": {},
   "outputs": [
    {
     "data": {
      "text/plain": [
       "(24125, 78)"
      ]
     },
     "execution_count": 74,
     "metadata": {},
     "output_type": "execute_result"
    }
   ],
   "source": [
    "# Noņemam visus dubultos ierakstus\n",
    "data9.drop_duplicates(inplace = True)\n",
    "data9.shape"
   ]
  },
  {
   "cell_type": "code",
   "execution_count": 75,
   "id": "f1b74c60-75eb-4652-bd61-42f12b6afceb",
   "metadata": {},
   "outputs": [
    {
     "name": "stdout",
     "output_type": "stream",
     "text": [
      "Trūkstošo vērtību skaits – 0\n"
     ]
    }
   ],
   "source": [
    "# Trūkstošo vērtību pārbaude\n",
    "missing_val_knn = data9.isna().sum()\n",
    "missing_total = missing_val_knn.sum()\n",
    "print(f\"Trūkstošo vērtību skaits – {missing_total}\")"
   ]
  },
  {
   "cell_type": "code",
   "execution_count": 76,
   "id": "c6e7645c-78b4-4376-bb1e-c1d401657955",
   "metadata": {},
   "outputs": [
    {
     "name": "stdout",
     "output_type": "stream",
     "text": [
      "Initial missing values: 0\n"
     ]
    }
   ],
   "source": [
    "# Bezgalības vērtību apstrāde\n",
    "numeric_cols_knn = data9.select_dtypes(include=np.number).columns\n",
    "inf_count_knn = np.isinf(data9[numeric_cols_knn]).sum();\n",
    "print(f'Initial missing values: {data9.isna().sum().sum()}')"
   ]
  },
  {
   "cell_type": "code",
   "execution_count": 77,
   "id": "06968b4f-1fc9-4326-90c8-6789849f6d04",
   "metadata": {},
   "outputs": [
    {
     "name": "stdout",
     "output_type": "stream",
     "text": [
      "KNN Classifier trained in 0.01 seconds.\n",
      "KNN Predicted in 0.37 seconds.\n",
      "📊 KNN Model (on data9)\n",
      "Accuracy on test set: 0.9725\n"
     ]
    },
    {
     "data": {
      "image/png": "[encoded data removed]",
      "text/plain": [
       "<Figure size 1200x600 with 1 Axes>"
      ]
     },
     "metadata": {},
     "output_type": "display_data"
    }
   ],
   "source": [
    "import matplotlib.pyplot as plt\n",
    "import seaborn as sns\n",
    "\n",
    "# Mapējam Label vērtības uz attiecīgajiem uzbrukumu veidiem\n",
    "attack_map_knn = {\n",
    "    0: 'BENIGN',\n",
    "    3: 'DoS',\n",
    "    6: 'WebAttack',\n",
    "    1: 'Bot',\n",
    "    5: 'PortScan',\n",
    "    2: 'BruteForce',\n",
    "    4: 'Infiltration'\n",
    "}\n",
    "\n",
    "# Pievienojam jaunu kolonnu 'Attack Type', kur saglabājam uzbrukumu veidus\n",
    "data9['Attack Type'] = data9['Label'].map(attack_map_knn)\n",
    "\n",
    "# Izfiltrējam tikai tos ierakstus, kas nav 'BENIGN'\n",
    "attacks = data9.loc[data9['Attack Type'] != 'BENIGN']\n",
    "\n",
    "# Zīmējam grafiku\n",
    "plt.figure(figsize=(12, 6))\n",
    "ax = sns.countplot(\n",
    "    x='Attack Type',\n",
    "    hue='Attack Type',\n",
    "    data=attacks,\n",
    "    palette='pastel',\n",
    "    order=attacks['Attack Type'].value_counts().index,\n",
    "    legend=False\n",
    ")\n",
    "\n",
    "# Pievienojam grafika virsrakstu un asi nosaukumus\n",
    "plt.title('Uzbrukumu veidi (izņemot BENIGN)', fontsize=14)\n",
    "plt.xlabel('Uzbrukuma veids', fontsize=12)\n",
    "plt.ylabel('Skaits', fontsize=12)\n",
    "plt.xticks(rotation=45)\n",
    "\n",
    "# Pievienojam skaitliskās anotācijas virs katra staba\n",
    "for p in ax.patches:\n",
    "    ax.annotate(\n",
    "        f'{p.get_height():.0f}', \n",
    "        (p.get_x() + p.get_width() / 2., p.get_height() * 1.01), \n",
    "        ha='center'\n",
    "    )\n",
    "\n",
    "# Modelēšana\n",
    "X_knn = data9.drop(['Label', 'Attack Type'], axis=1, errors='ignore')\n",
    "y_knn = data9['Label']\n",
    "\n",
    "le_knn = LabelEncoder()\n",
    "y_knn_encoded = le_knn.fit_transform(y_knn)\n",
    "\n",
    "X_train_knn, X_test_knn, y_train_knn, y_test_knn = train_test_split(X_knn, y_knn_encoded, test_size=0.3, random_state=0)\n",
    "\n",
    "scaler_knn = StandardScaler()\n",
    "X_train_knn = scaler_knn.fit_transform(X_train_knn)\n",
    "X_test_knn = scaler_knn.transform(X_test_knn)\n",
    "\n",
    "# Trenē KNN\n",
    "knn = KNeighborsClassifier(n_neighbors=5)\n",
    "t4 = time()\n",
    "knn.fit(X_train_knn, y_train_knn)\n",
    "tt4 = time() - t4\n",
    "print(\"KNN Classifier trained in {} seconds.\".format(round(tt4, 3)))\n",
    "\n",
    "t5 = time()\n",
    "y_pred_knn = knn.predict(X_test_knn)\n",
    "tt5 = time() - t5\n",
    "print(\"KNN Predicted in {} seconds.\".format(round(tt5, 3)))\n",
    "\n",
    "accuracy_knn = accuracy_score(y_test_knn, y_pred_knn)\n",
    "print(f'📊 KNN Model (on data9)')\n",
    "print(f'Accuracy on test set: {accuracy_knn:.4f}')"
   ]
  },
  {
   "cell_type": "code",
   "execution_count": 78,
   "id": "101a5f5f-95f1-408a-8699-e140dc3c2ff6",
   "metadata": {},
   "outputs": [
    {
     "name": "stdout",
     "output_type": "stream",
     "text": [
      "Classifier trained in 0.6 seconds.\n",
      "Predicted in 0.773 seconds.\n",
      "📊 Gaussian Naive Bayes Model\n",
      "Accuracy on test set: 0.9186144871\n"
     ]
    }
   ],
   "source": [
    "from sklearn.naive_bayes import GaussianNB\n",
    "# Apmāca Gaussian Naive Bayes modeli\n",
    "gnb = GaussianNB()\n",
    "t5 = time()\n",
    "gnb.fit(X_train, y_train)\n",
    "tt5 = time() - t5\n",
    "print(\"Classifier trained in {} seconds.\".format(round(tt5, 3)))\n",
    "\n",
    "# Paredz rezultātus uz testu datiem\n",
    "t6 = time()\n",
    "y_pred_gnb = gnb.predict(X_test)\n",
    "tt6 = time() - t6\n",
    "print(\"Predicted in {} seconds.\".format(round(tt6, 3)))\n",
    "\n",
    "# Novērtē precizitāti\n",
    "accuracy_gnb = accuracy_score(y_test, y_pred_gnb)\n",
    "print('📊 Gaussian Naive Bayes Model')\n",
    "print(f'Accuracy on test set: {accuracy_gnb:.10f}')"
   ]
  },
  {
   "cell_type": "code",
   "execution_count": null,
   "id": "c63b225b-9481-424a-a00a-d3a5ce07fc09",
   "metadata": {},
   "outputs": [],
   "source": []
  }
 ],
 "metadata": {
  "kernelspec": {
   "display_name": "Python [conda env:Orange]",
   "language": "python",
   "name": "conda-env-Orange-py"
  },
  "language_info": {
   "codemirror_mode": {
    "name": "ipython",
    "version": 3
   },
   "file_extension": ".py",
   "mimetype": "text/x-python",
   "name": "python",
   "nbconvert_exporter": "python",
   "pygments_lexer": "ipython3",
   "version": "3.9.12"
  }
 },
 "nbformat": 4,
 "nbformat_minor": 5
}
