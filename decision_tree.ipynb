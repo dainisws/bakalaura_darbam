{
  "nbformat": 4,
  "nbformat_minor": 0,
  "metadata": {
    "colab": {
      "provenance": [],
      "mount_file_id": "1hCFC2TkZdCvN91I96Ives7onogzel6Yp",
      "authorship_tag": "ABX9TyNHieFK3bPRXtWcos5MbPKr",
      "include_colab_link": true
    },
    "kernelspec": {
      "name": "python3",
      "display_name": "Python 3"
    },
    "language_info": {
      "name": "python"
    }
  },
  "cells": [
    {
      "cell_type": "markdown",
      "metadata": {
        "id": "view-in-github",
        "colab_type": "text"
      },
      "source": [
        "<a href=\"https://colab.research.google.com/github/dainisws/bakalaura_darbam/blob/main/decision_tree.ipynb\" target=\"_parent\"><img src=\"https://colab.research.google.com/assets/colab-badge.svg\" alt=\"Open In Colab\"/></a>"
      ]
    },
    {
      "cell_type": "code",
      "source": [
        "from google.colab import drive\n",
        "drive.mount('/content/drive')"
      ],
      "metadata": {
        "id": "nC-mNH8TrL9y",
        "colab": {
          "base_uri": "https://localhost:8080/"
        },
        "outputId": "404a6329-d88b-4908-c5a9-6514cb3f02de"
      },
      "execution_count": 2,
      "outputs": [
        {
          "output_type": "stream",
          "name": "stdout",
          "text": [
            "Drive already mounted at /content/drive; to attempt to forcibly remount, call drive.mount(\"/content/drive\", force_remount=True).\n"
          ]
        }
      ]
    },
    {
      "cell_type": "code",
      "source": [
        "import pandas as pd\n",
        "import numpy as np\n",
        "from sklearn.model_selection import train_test_split, cross_val_score\n",
        "from sklearn.preprocessing import StandardScaler, LabelEncoder\n",
        "from sklearn.tree import DecisionTreeClassifier\n",
        "from sklearn.metrics import classification_report, accuracy_score"
      ],
      "metadata": {
        "id": "fInq1DOkrF2U"
      },
      "execution_count": 3,
      "outputs": []
    },
    {
      "cell_type": "code",
      "execution_count": 4,
      "metadata": {
        "id": "l7d8BWCKqP2v"
      },
      "outputs": [],
      "source": [
        "# Datu ielāde no 8 failiem\n",
        "data1 = pd.read_csv('/content/drive/MyDrive/MachineLearningCSV/MachineLearningCVE/Monday-WorkingHours.pcap_ISCX.csv')\n",
        "data2 = pd.read_csv('/content/drive/MyDrive/MachineLearningCSV/MachineLearningCVE/Tuesday-WorkingHours.pcap_ISCX.csv')\n",
        "data3 = pd.read_csv('/content/drive/MyDrive/MachineLearningCSV/MachineLearningCVE/Wednesday-workingHours.pcap_ISCX.csv')\n",
        "data4 = pd.read_csv('/content/drive/MyDrive/MachineLearningCSV/MachineLearningCVE/Thursday-WorkingHours-Morning-WebAttacks.pcap_ISCX.csv')\n",
        "data5 = pd.read_csv('/content/drive/MyDrive/MachineLearningCSV/MachineLearningCVE/Thursday-WorkingHours-Afternoon-Infilteration.pcap_ISCX.csv')\n",
        "data6 = pd.read_csv('/content/drive/MyDrive/MachineLearningCSV/MachineLearningCVE/Friday-WorkingHours-Morning.pcap_ISCX.csv')\n",
        "data7 = pd.read_csv('/content/drive/MyDrive/MachineLearningCSV/MachineLearningCVE/Friday-WorkingHours-Afternoon-PortScan.pcap_ISCX.csv')\n",
        "data8 = pd.read_csv('/content/drive/MyDrive/MachineLearningCSV/MachineLearningCVE/Friday-WorkingHours-Afternoon-DDos.pcap_ISCX.csv')"
      ]
    },
    {
      "cell_type": "code",
      "source": [
        "data_list = [data1, data2, data3, data4, data5, data6, data7, data8]\n",
        "data_combined = pd.concat(data_list)\n",
        "\n",
        "# Izvada datu dimensijas\n",
        "rows, cols = data_combined.shape\n",
        "print('New dimension:')\n",
        "print(f'Number of rows: {rows}, Number of columns: {cols}')\n",
        "print(f'Total cells: {rows * cols}')\n",
        "\n",
        "# Deleting dataframes after concating to save memory\n",
        "for d in data_list: del d\n",
        "\n",
        "# Noņem liekās atstarpes no kolonnu nosaukumiem\n",
        "col_names = {col: col.strip() for col in data_combined.columns}\n",
        "data_combined.rename(columns = col_names, inplace = True)\n",
        "\n",
        "data_combined.columns\n"
      ],
      "metadata": {
        "id": "WYpeARvEwBKM",
        "collapsed": true,
        "colab": {
          "base_uri": "https://localhost:8080/"
        },
        "outputId": "0a370e51-569d-4007-a77f-3fffcda36b26"
      },
      "execution_count": 5,
      "outputs": [
        {
          "output_type": "stream",
          "name": "stdout",
          "text": [
            "New dimension:\n",
            "Number of rows: 2830743, Number of columns: 79\n",
            "Total cells: 223628697\n"
          ]
        },
        {
          "output_type": "execute_result",
          "data": {
            "text/plain": [
              "Index(['Destination Port', 'Flow Duration', 'Total Fwd Packets',\n",
              "       'Total Backward Packets', 'Total Length of Fwd Packets',\n",
              "       'Total Length of Bwd Packets', 'Fwd Packet Length Max',\n",
              "       'Fwd Packet Length Min', 'Fwd Packet Length Mean',\n",
              "       'Fwd Packet Length Std', 'Bwd Packet Length Max',\n",
              "       'Bwd Packet Length Min', 'Bwd Packet Length Mean',\n",
              "       'Bwd Packet Length Std', 'Flow Bytes/s', 'Flow Packets/s',\n",
              "       'Flow IAT Mean', 'Flow IAT Std', 'Flow IAT Max', 'Flow IAT Min',\n",
              "       'Fwd IAT Total', 'Fwd IAT Mean', 'Fwd IAT Std', 'Fwd IAT Max',\n",
              "       'Fwd IAT Min', 'Bwd IAT Total', 'Bwd IAT Mean', 'Bwd IAT Std',\n",
              "       'Bwd IAT Max', 'Bwd IAT Min', 'Fwd PSH Flags', 'Bwd PSH Flags',\n",
              "       'Fwd URG Flags', 'Bwd URG Flags', 'Fwd Header Length',\n",
              "       'Bwd Header Length', 'Fwd Packets/s', 'Bwd Packets/s',\n",
              "       'Min Packet Length', 'Max Packet Length', 'Packet Length Mean',\n",
              "       'Packet Length Std', 'Packet Length Variance', 'FIN Flag Count',\n",
              "       'SYN Flag Count', 'RST Flag Count', 'PSH Flag Count', 'ACK Flag Count',\n",
              "       'URG Flag Count', 'CWE Flag Count', 'ECE Flag Count', 'Down/Up Ratio',\n",
              "       'Average Packet Size', 'Avg Fwd Segment Size', 'Avg Bwd Segment Size',\n",
              "       'Fwd Header Length.1', 'Fwd Avg Bytes/Bulk', 'Fwd Avg Packets/Bulk',\n",
              "       'Fwd Avg Bulk Rate', 'Bwd Avg Bytes/Bulk', 'Bwd Avg Packets/Bulk',\n",
              "       'Bwd Avg Bulk Rate', 'Subflow Fwd Packets', 'Subflow Fwd Bytes',\n",
              "       'Subflow Bwd Packets', 'Subflow Bwd Bytes', 'Init_Win_bytes_forward',\n",
              "       'Init_Win_bytes_backward', 'act_data_pkt_fwd', 'min_seg_size_forward',\n",
              "       'Active Mean', 'Active Std', 'Active Max', 'Active Min', 'Idle Mean',\n",
              "       'Idle Std', 'Idle Max', 'Idle Min', 'Label'],\n",
              "      dtype='object')"
            ]
          },
          "metadata": {},
          "execution_count": 5
        }
      ]
    },
    {
      "cell_type": "code",
      "source": [
        "data_combined.info()"
      ],
      "metadata": {
        "collapsed": true,
        "id": "36KMebzWqEDK",
        "colab": {
          "base_uri": "https://localhost:8080/"
        },
        "outputId": "c3d21741-2ebe-4000-d7be-883a96ccc33b"
      },
      "execution_count": 6,
      "outputs": [
        {
          "output_type": "stream",
          "name": "stdout",
          "text": [
            "<class 'pandas.core.frame.DataFrame'>\n",
            "Index: 2830743 entries, 0 to 225744\n",
            "Data columns (total 79 columns):\n",
            " #   Column                       Dtype  \n",
            "---  ------                       -----  \n",
            " 0   Destination Port             int64  \n",
            " 1   Flow Duration                int64  \n",
            " 2   Total Fwd Packets            int64  \n",
            " 3   Total Backward Packets       int64  \n",
            " 4   Total Length of Fwd Packets  int64  \n",
            " 5   Total Length of Bwd Packets  int64  \n",
            " 6   Fwd Packet Length Max        int64  \n",
            " 7   Fwd Packet Length Min        int64  \n",
            " 8   Fwd Packet Length Mean       float64\n",
            " 9   Fwd Packet Length Std        float64\n",
            " 10  Bwd Packet Length Max        int64  \n",
            " 11  Bwd Packet Length Min        int64  \n",
            " 12  Bwd Packet Length Mean       float64\n",
            " 13  Bwd Packet Length Std        float64\n",
            " 14  Flow Bytes/s                 float64\n",
            " 15  Flow Packets/s               float64\n",
            " 16  Flow IAT Mean                float64\n",
            " 17  Flow IAT Std                 float64\n",
            " 18  Flow IAT Max                 int64  \n",
            " 19  Flow IAT Min                 int64  \n",
            " 20  Fwd IAT Total                int64  \n",
            " 21  Fwd IAT Mean                 float64\n",
            " 22  Fwd IAT Std                  float64\n",
            " 23  Fwd IAT Max                  int64  \n",
            " 24  Fwd IAT Min                  int64  \n",
            " 25  Bwd IAT Total                int64  \n",
            " 26  Bwd IAT Mean                 float64\n",
            " 27  Bwd IAT Std                  float64\n",
            " 28  Bwd IAT Max                  int64  \n",
            " 29  Bwd IAT Min                  int64  \n",
            " 30  Fwd PSH Flags                int64  \n",
            " 31  Bwd PSH Flags                int64  \n",
            " 32  Fwd URG Flags                int64  \n",
            " 33  Bwd URG Flags                int64  \n",
            " 34  Fwd Header Length            int64  \n",
            " 35  Bwd Header Length            int64  \n",
            " 36  Fwd Packets/s                float64\n",
            " 37  Bwd Packets/s                float64\n",
            " 38  Min Packet Length            int64  \n",
            " 39  Max Packet Length            int64  \n",
            " 40  Packet Length Mean           float64\n",
            " 41  Packet Length Std            float64\n",
            " 42  Packet Length Variance       float64\n",
            " 43  FIN Flag Count               int64  \n",
            " 44  SYN Flag Count               int64  \n",
            " 45  RST Flag Count               int64  \n",
            " 46  PSH Flag Count               int64  \n",
            " 47  ACK Flag Count               int64  \n",
            " 48  URG Flag Count               int64  \n",
            " 49  CWE Flag Count               int64  \n",
            " 50  ECE Flag Count               int64  \n",
            " 51  Down/Up Ratio                int64  \n",
            " 52  Average Packet Size          float64\n",
            " 53  Avg Fwd Segment Size         float64\n",
            " 54  Avg Bwd Segment Size         float64\n",
            " 55  Fwd Header Length.1          int64  \n",
            " 56  Fwd Avg Bytes/Bulk           int64  \n",
            " 57  Fwd Avg Packets/Bulk         int64  \n",
            " 58  Fwd Avg Bulk Rate            int64  \n",
            " 59  Bwd Avg Bytes/Bulk           int64  \n",
            " 60  Bwd Avg Packets/Bulk         int64  \n",
            " 61  Bwd Avg Bulk Rate            int64  \n",
            " 62  Subflow Fwd Packets          int64  \n",
            " 63  Subflow Fwd Bytes            int64  \n",
            " 64  Subflow Bwd Packets          int64  \n",
            " 65  Subflow Bwd Bytes            int64  \n",
            " 66  Init_Win_bytes_forward       int64  \n",
            " 67  Init_Win_bytes_backward      int64  \n",
            " 68  act_data_pkt_fwd             int64  \n",
            " 69  min_seg_size_forward         int64  \n",
            " 70  Active Mean                  float64\n",
            " 71  Active Std                   float64\n",
            " 72  Active Max                   int64  \n",
            " 73  Active Min                   int64  \n",
            " 74  Idle Mean                    float64\n",
            " 75  Idle Std                     float64\n",
            " 76  Idle Max                     int64  \n",
            " 77  Idle Min                     int64  \n",
            " 78  Label                        object \n",
            "dtypes: float64(24), int64(54), object(1)\n",
            "memory usage: 1.7+ GB\n"
          ]
        }
      ]
    },
    {
      "cell_type": "code",
      "source": [
        "# Daru tīrīšana\n",
        "# Dublētu vērtību identificēšana\n",
        "dups = data_combined[data_combined.duplicated()]\n",
        "print(f'Number of duplicates: {len(dups)}')"
      ],
      "metadata": {
        "id": "o_6wbDaGzcrp",
        "colab": {
          "base_uri": "https://localhost:8080/"
        },
        "outputId": "c02c602b-b631-4e61-b9a6-584ca02e83d7"
      },
      "execution_count": 7,
      "outputs": [
        {
          "output_type": "stream",
          "name": "stdout",
          "text": [
            "Number of duplicates: 308381\n"
          ]
        }
      ]
    },
    {
      "cell_type": "code",
      "source": [
        "# Noņemam visus dubultos ierakstus\n",
        "data_combined.drop_duplicates(inplace = True)\n",
        "data_combined.shape"
      ],
      "metadata": {
        "id": "CFboE-enz3QN",
        "colab": {
          "base_uri": "https://localhost:8080/"
        },
        "outputId": "abc817bd-3a96-400a-8a3a-268d6ea14ff6"
      },
      "execution_count": 8,
      "outputs": [
        {
          "output_type": "execute_result",
          "data": {
            "text/plain": [
              "(2522362, 79)"
            ]
          },
          "metadata": {},
          "execution_count": 8
        }
      ]
    },
    {
      "cell_type": "code",
      "source": [
        "# Trūkstošo vērtību noteikšana\n",
        "missing_val = data_combined.isna().sum()\n",
        "print(missing_val.loc[missing_val > 0])"
      ],
      "metadata": {
        "id": "t7e5h_tv0WgM",
        "colab": {
          "base_uri": "https://localhost:8080/"
        },
        "outputId": "9aaee5ed-1abc-4968-ad09-566d7a7deec0"
      },
      "execution_count": 9,
      "outputs": [
        {
          "output_type": "stream",
          "name": "stdout",
          "text": [
            "Flow Bytes/s    353\n",
            "dtype: int64\n"
          ]
        }
      ]
    },
    {
      "cell_type": "code",
      "source": [
        "# Bezgalības vērtību pārbaude\n",
        "numeric_cols = data_combined.select_dtypes(include = np.number).columns\n",
        "inf_count = np.isinf(data_combined[numeric_cols]).sum()\n",
        "print(inf_count[inf_count > 0])"
      ],
      "metadata": {
        "id": "GKceUPVj0xeO",
        "colab": {
          "base_uri": "https://localhost:8080/"
        },
        "outputId": "ab496d0b-d257-47d6-b2aa-de047e6bd6e8"
      },
      "execution_count": 10,
      "outputs": [
        {
          "output_type": "stream",
          "name": "stdout",
          "text": [
            "Flow Bytes/s      1211\n",
            "Flow Packets/s    1564\n",
            "dtype: int64\n"
          ]
        }
      ]
    },
    {
      "cell_type": "code",
      "source": [
        "# Jebkuru bezgalīgu vērtību (pozitīvu vai negatīvu) aizstāšana ar NaN (nevis skaitli)\n",
        "print(f'Initial missing values: {data_combined.isna().sum().sum()}')\n",
        "\n",
        "data_combined.replace([np.inf, -np.inf], np.nan, inplace = True)\n",
        "\n",
        "print(f'Missing values after processing infinite values: {data_combined.isna().sum().sum()}')"
      ],
      "metadata": {
        "id": "9jk6LKGG080N",
        "colab": {
          "base_uri": "https://localhost:8080/"
        },
        "outputId": "467186ff-06e5-4446-807e-940b7548dbc5"
      },
      "execution_count": 11,
      "outputs": [
        {
          "output_type": "stream",
          "name": "stdout",
          "text": [
            "Initial missing values: 353\n",
            "Missing values after processing infinite values: 3128\n"
          ]
        }
      ]
    },
    {
      "cell_type": "code",
      "source": [
        "# Identificējam un saskaitītām trūkstošās vērtības\n",
        "missing = data_combined.isna().sum()\n",
        "print(missing.loc[missing > 0])"
      ],
      "metadata": {
        "id": "CehveA2B2yIM",
        "colab": {
          "base_uri": "https://localhost:8080/"
        },
        "outputId": "444ab600-5d77-4089-ee5a-7771dd0ac5bc"
      },
      "execution_count": 12,
      "outputs": [
        {
          "output_type": "stream",
          "name": "stdout",
          "text": [
            "Flow Bytes/s      1564\n",
            "Flow Packets/s    1564\n",
            "dtype: int64\n"
          ]
        }
      ]
    },
    {
      "cell_type": "code",
      "source": [
        "# Trūkstošo vērtību procentuālās daļas aprēķināšana\n",
        "mis_per = (missing / len(data_combined)) * 100\n",
        "print(mis_per[mis_per > 0].round(2))"
      ],
      "metadata": {
        "id": "yBt4yqMq22C-",
        "colab": {
          "base_uri": "https://localhost:8080/"
        },
        "outputId": "ea8b742d-0a6d-4cea-d31f-0cb2cea40693"
      },
      "execution_count": 13,
      "outputs": [
        {
          "output_type": "stream",
          "name": "stdout",
          "text": [
            "Flow Bytes/s      0.06\n",
            "Flow Packets/s    0.06\n",
            "dtype: float64\n"
          ]
        }
      ]
    },
    {
      "cell_type": "code",
      "source": [
        "# Mediānas noteikšana\n",
        "med_flow_bytes = data_combined['Flow Bytes/s'].median()\n",
        "med_flow_packets = data_combined['Flow Packets/s'].median()\n",
        "\n",
        "# Trūkstošo vērtību aizpildīšana ar mediānu\n",
        "data_combined['Flow Bytes/s'] = data_combined['Flow Bytes/s'].fillna(med_flow_bytes)\n",
        "data_combined['Flow Packets/s'] = data_combined['Flow Packets/s'].fillna(med_flow_packets)\n",
        "\n",
        "print('Number of \\'Flow Bytes/s\\' missing values:', data_combined['Flow Bytes/s'].isna().sum())\n",
        "print('Number of \\'Flow Packets/s\\' missing values:', data_combined['Flow Packets/s'].isna().sum())"
      ],
      "metadata": {
        "id": "HCYNfge358WV",
        "colab": {
          "base_uri": "https://localhost:8080/"
        },
        "outputId": "c06606db-39f0-4297-d22b-c39864e14ca2"
      },
      "execution_count": 14,
      "outputs": [
        {
          "output_type": "stream",
          "name": "stdout",
          "text": [
            "Number of 'Flow Bytes/s' missing values: 0\n",
            "Number of 'Flow Packets/s' missing values: 0\n"
          ]
        }
      ]
    },
    {
      "cell_type": "code",
      "source": [
        "# Creating a dictionary that maps each label to its attack type\n",
        "attack_map = {\n",
        "    'BENIGN': 'BENIGN',\n",
        "    'DDoS': 'DDoS',\n",
        "    'DoS Hulk': 'DoS',\n",
        "    'DoS GoldenEye': 'DoS',\n",
        "    'DoS slowloris': 'DoS',\n",
        "    'DoS Slowhttptest': 'DoS',\n",
        "    'PortScan': 'Port Scan',\n",
        "    'FTP-Patator': 'Brute Force',\n",
        "    'SSH-Patator': 'Brute Force',\n",
        "    'Bot': 'Bot',\n",
        "    'Web Attack � Brute Force': 'Web Attack',\n",
        "    'Web Attack � XSS': 'Web Attack',\n",
        "    'Web Attack � Sql Injection': 'Web Attack',\n",
        "    'Infiltration': 'Infiltration',\n",
        "    'Heartbleed': 'Heartbleed'\n",
        "}\n",
        "\n",
        "# Ja \"Attack Type\" kolonna nav, izmanto \"Label\" tās vietā\n",
        "data_combined['Attack Type'] = data_combined['Label'].map(attack_map)\n",
        "\n",
        "import matplotlib.pyplot as plt\n",
        "import seaborn as sns\n",
        "\n",
        "# Izfiltrē visus izņemot \"BENIGN\"\n",
        "attacks = data_combined.loc[data_combined['Attack Type'] != 'BENIGN']\n",
        "\n",
        "plt.figure(figsize=(12, 6))\n",
        "ax = sns.countplot(\n",
        "    x='Attack Type',\n",
        "    hue='Attack Type',\n",
        "    data=attacks,\n",
        "    palette='pastel',\n",
        "    order=attacks['Attack Type'].value_counts().index,\n",
        "    legend=False\n",
        ")\n",
        "plt.title('Uzbrukumu veidi (izņemot BENIGN)')\n",
        "plt.xlabel('Uzbrukuma veids')\n",
        "plt.ylabel('Skaits')\n",
        "plt.xticks(rotation=45)\n",
        "\n",
        "# Skaitliskie anotācijas virs stabiņiem\n",
        "for p in ax.patches:\n",
        "    ax.annotate(f'{p.get_height():.0f}', (p.get_x() + p.get_width() / 2., p.get_height() + 500), ha='center')\n",
        "\n",
        "plt.tight_layout()\n",
        "plt.show()\n"
      ],
      "metadata": {
        "id": "De51JxWJkROj",
        "colab": {
          "base_uri": "https://localhost:8080/",
          "height": 459
        },
        "outputId": "6eaead7a-ee29-4dc4-a1ba-25e21353b53d"
      },
      "execution_count": 15,
      "outputs": [
        {
          "output_type": "display_data",
          "data": {
            "text/plain": [
              "<Figure size 1200x600 with 1 Axes>"
            ],
            "image/png": "[encoded data removed]"
          },
          "metadata": {}
        }
      ]
    },
    {
      "cell_type": "code",
      "source": [
        "# Atdala iezīmes (X) un mērķa mainīgo (y)\n",
        "\n",
        "X = data_combined.drop(['Label', 'Attack Type'], axis=1)\n",
        "y = data_combined['Label']\n",
        "\n",
        "# Konvertē mērķa mainīgo (Label) uz skaitlisko vērtību ar LabelEncoder\n",
        "le = LabelEncoder()\n",
        "y_encoded = le.fit_transform(y)\n",
        "\n",
        "# Sadala datus treniņu un testēšanas kopās\n",
        "X_train, X_test, y_train, y_test = train_test_split(X, y_encoded, test_size=0.3, random_state=0)\n",
        "\n",
        "# Standartizē datu iezīmes\n",
        "scaler = StandardScaler()\n",
        "X_train = scaler.fit_transform(X_train)\n",
        "X_test = scaler.transform(X_test)\n",
        "\n"
      ],
      "metadata": {
        "id": "gqYHoNw9x_EZ"
      },
      "execution_count": 17,
      "outputs": []
    },
    {
      "cell_type": "code",
      "source": [
        "# Apmāca Decision Tree modeli\n",
        "dt = DecisionTreeClassifier(max_depth=6)\n",
        "dt.fit(X_train, y_train)\n",
        "\n",
        "# 5-fold cross-validation\n",
        "cv_dt = cross_val_score(dt, X_train, y_train, cv=3)\n",
        "\n",
        "# Izvada rezultātus\n",
        "print('📊 Decision Tree Model (Cross-Validation pieeja)')\n",
        "print(f'\\nCross-validation scores: {\", \".join(map(lambda x: f\"{x:.2f}\", cv_dt))}')\n",
        "print(f'Mean cross-validation score: {cv_dt.mean():.2f}')"
      ],
      "metadata": {
        "id": "r1oM1TUZrGjD",
        "colab": {
          "base_uri": "https://localhost:8080/"
        },
        "outputId": "1cefeb8b-6468-4a4f-c6f9-c6116d461527"
      },
      "execution_count": 19,
      "outputs": [
        {
          "output_type": "stream",
          "name": "stdout",
          "text": [
            "📊 Decision Tree Model (Cross-Validation pieeja)\n",
            "\n",
            "Cross-validation scores: 0.99, 0.99, 0.99\n",
            "Mean cross-validation score: 0.99\n"
          ]
        }
      ]
    }
  ]
}