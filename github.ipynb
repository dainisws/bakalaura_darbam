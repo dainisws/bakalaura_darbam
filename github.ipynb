{
 "cells": [
  {
   "cell_type": "code",
   "execution_count": 112,
   "id": "ecf68e0c-27d4-4c63-a5ca-7c1299f62396",
   "metadata": {},
   "outputs": [],
   "source": [
    "import pandas as pd\n",
    "import numpy as np\n",
    "from time import time\n",
    "from sklearn.model_selection import train_test_split\n",
    "from sklearn.preprocessing import StandardScaler\n",
    "from sklearn.metrics import classification_report, accuracy_score"
   ]
  },
  {
   "cell_type": "code",
   "execution_count": 113,
   "id": "d5732854-7ea2-4492-a36e-4e66bd5e72a7",
   "metadata": {},
   "outputs": [],
   "source": [
    "data8 = pd.read_csv('C:/Users/daini/OneDrive/Dators/ai/MachineLearningCSV/MachineLearningCVE/Wednesday-workingHours.pcap_ISCX.csv')"
   ]
  },
  {
   "cell_type": "code",
   "execution_count": 114,
   "id": "f6457dc6-3bda-4496-83af-9e944e057a9d",
   "metadata": {},
   "outputs": [
    {
     "name": "stdout",
     "output_type": "stream",
     "text": [
      "Number of rows: 692703, Number of columns: 79\n",
      "Total cells: 54723537\n"
     ]
    },
    {
     "data": {
      "text/plain": [
       "Index(['Destination Port', 'Flow Duration', 'Total Fwd Packets',\n",
       "       'Total Backward Packets', 'Total Length of Fwd Packets',\n",
       "       'Total Length of Bwd Packets', 'Fwd Packet Length Max',\n",
       "       'Fwd Packet Length Min', 'Fwd Packet Length Mean',\n",
       "       'Fwd Packet Length Std', 'Bwd Packet Length Max',\n",
       "       'Bwd Packet Length Min', 'Bwd Packet Length Mean',\n",
       "       'Bwd Packet Length Std', 'Flow Bytes/s', 'Flow Packets/s',\n",
       "       'Flow IAT Mean', 'Flow IAT Std', 'Flow IAT Max', 'Flow IAT Min',\n",
       "       'Fwd IAT Total', 'Fwd IAT Mean', 'Fwd IAT Std', 'Fwd IAT Max',\n",
       "       'Fwd IAT Min', 'Bwd IAT Total', 'Bwd IAT Mean', 'Bwd IAT Std',\n",
       "       'Bwd IAT Max', 'Bwd IAT Min', 'Fwd PSH Flags', 'Bwd PSH Flags',\n",
       "       'Fwd URG Flags', 'Bwd URG Flags', 'Fwd Header Length',\n",
       "       'Bwd Header Length', 'Fwd Packets/s', 'Bwd Packets/s',\n",
       "       'Min Packet Length', 'Max Packet Length', 'Packet Length Mean',\n",
       "       'Packet Length Std', 'Packet Length Variance', 'FIN Flag Count',\n",
       "       'SYN Flag Count', 'RST Flag Count', 'PSH Flag Count', 'ACK Flag Count',\n",
       "       'URG Flag Count', 'CWE Flag Count', 'ECE Flag Count', 'Down/Up Ratio',\n",
       "       'Average Packet Size', 'Avg Fwd Segment Size', 'Avg Bwd Segment Size',\n",
       "       'Fwd Header Length.1', 'Fwd Avg Bytes/Bulk', 'Fwd Avg Packets/Bulk',\n",
       "       'Fwd Avg Bulk Rate', 'Bwd Avg Bytes/Bulk', 'Bwd Avg Packets/Bulk',\n",
       "       'Bwd Avg Bulk Rate', 'Subflow Fwd Packets', 'Subflow Fwd Bytes',\n",
       "       'Subflow Bwd Packets', 'Subflow Bwd Bytes', 'Init_Win_bytes_forward',\n",
       "       'Init_Win_bytes_backward', 'act_data_pkt_fwd', 'min_seg_size_forward',\n",
       "       'Active Mean', 'Active Std', 'Active Max', 'Active Min', 'Idle Mean',\n",
       "       'Idle Std', 'Idle Max', 'Idle Min', 'Label'],\n",
       "      dtype='object')"
      ]
     },
     "execution_count": 114,
     "metadata": {},
     "output_type": "execute_result"
    }
   ],
   "source": [
    "data_combined = data8\n",
    "\n",
    "# Izvadām datu dimensiju\n",
    "rows, cols = data_combined.shape\n",
    "print(f'Number of rows: {rows}, Number of columns: {cols}')\n",
    "print(f'Total cells: {rows * cols}')\n",
    "\n",
    "# Noņemam liekās atstarpes no kolonnu nosaukumiem\n",
    "col_names = {col: col.strip() for col in data_combined.columns}\n",
    "data_combined.rename(columns = col_names, inplace = True)\n",
    "\n",
    "data_combined.columns"
   ]
  },
  {
   "cell_type": "code",
   "execution_count": 115,
   "id": "0dc9817f-dcd9-4993-9ce4-2325265d4b03",
   "metadata": {},
   "outputs": [
    {
     "name": "stdout",
     "output_type": "stream",
     "text": [
      "<class 'pandas.core.frame.DataFrame'>\n",
      "RangeIndex: 692703 entries, 0 to 692702\n",
      "Data columns (total 79 columns):\n",
      " #   Column                       Non-Null Count   Dtype  \n",
      "---  ------                       --------------   -----  \n",
      " 0   Destination Port             692703 non-null  int64  \n",
      " 1   Flow Duration                692703 non-null  int64  \n",
      " 2   Total Fwd Packets            692703 non-null  int64  \n",
      " 3   Total Backward Packets       692703 non-null  int64  \n",
      " 4   Total Length of Fwd Packets  692703 non-null  int64  \n",
      " 5   Total Length of Bwd Packets  692703 non-null  int64  \n",
      " 6   Fwd Packet Length Max        692703 non-null  int64  \n",
      " 7   Fwd Packet Length Min        692703 non-null  int64  \n",
      " 8   Fwd Packet Length Mean       692703 non-null  float64\n",
      " 9   Fwd Packet Length Std        692703 non-null  float64\n",
      " 10  Bwd Packet Length Max        692703 non-null  int64  \n",
      " 11  Bwd Packet Length Min        692703 non-null  int64  \n",
      " 12  Bwd Packet Length Mean       692703 non-null  float64\n",
      " 13  Bwd Packet Length Std        692703 non-null  float64\n",
      " 14  Flow Bytes/s                 691695 non-null  float64\n",
      " 15  Flow Packets/s               692703 non-null  float64\n",
      " 16  Flow IAT Mean                692703 non-null  float64\n",
      " 17  Flow IAT Std                 692703 non-null  float64\n",
      " 18  Flow IAT Max                 692703 non-null  int64  \n",
      " 19  Flow IAT Min                 692703 non-null  int64  \n",
      " 20  Fwd IAT Total                692703 non-null  int64  \n",
      " 21  Fwd IAT Mean                 692703 non-null  float64\n",
      " 22  Fwd IAT Std                  692703 non-null  float64\n",
      " 23  Fwd IAT Max                  692703 non-null  int64  \n",
      " 24  Fwd IAT Min                  692703 non-null  int64  \n",
      " 25  Bwd IAT Total                692703 non-null  int64  \n",
      " 26  Bwd IAT Mean                 692703 non-null  float64\n",
      " 27  Bwd IAT Std                  692703 non-null  float64\n",
      " 28  Bwd IAT Max                  692703 non-null  int64  \n",
      " 29  Bwd IAT Min                  692703 non-null  int64  \n",
      " 30  Fwd PSH Flags                692703 non-null  int64  \n",
      " 31  Bwd PSH Flags                692703 non-null  int64  \n",
      " 32  Fwd URG Flags                692703 non-null  int64  \n",
      " 33  Bwd URG Flags                692703 non-null  int64  \n",
      " 34  Fwd Header Length            692703 non-null  int64  \n",
      " 35  Bwd Header Length            692703 non-null  int64  \n",
      " 36  Fwd Packets/s                692703 non-null  float64\n",
      " 37  Bwd Packets/s                692703 non-null  float64\n",
      " 38  Min Packet Length            692703 non-null  int64  \n",
      " 39  Max Packet Length            692703 non-null  int64  \n",
      " 40  Packet Length Mean           692703 non-null  float64\n",
      " 41  Packet Length Std            692703 non-null  float64\n",
      " 42  Packet Length Variance       692703 non-null  float64\n",
      " 43  FIN Flag Count               692703 non-null  int64  \n",
      " 44  SYN Flag Count               692703 non-null  int64  \n",
      " 45  RST Flag Count               692703 non-null  int64  \n",
      " 46  PSH Flag Count               692703 non-null  int64  \n",
      " 47  ACK Flag Count               692703 non-null  int64  \n",
      " 48  URG Flag Count               692703 non-null  int64  \n",
      " 49  CWE Flag Count               692703 non-null  int64  \n",
      " 50  ECE Flag Count               692703 non-null  int64  \n",
      " 51  Down/Up Ratio                692703 non-null  int64  \n",
      " 52  Average Packet Size          692703 non-null  float64\n",
      " 53  Avg Fwd Segment Size         692703 non-null  float64\n",
      " 54  Avg Bwd Segment Size         692703 non-null  float64\n",
      " 55  Fwd Header Length.1          692703 non-null  int64  \n",
      " 56  Fwd Avg Bytes/Bulk           692703 non-null  int64  \n",
      " 57  Fwd Avg Packets/Bulk         692703 non-null  int64  \n",
      " 58  Fwd Avg Bulk Rate            692703 non-null  int64  \n",
      " 59  Bwd Avg Bytes/Bulk           692703 non-null  int64  \n",
      " 60  Bwd Avg Packets/Bulk         692703 non-null  int64  \n",
      " 61  Bwd Avg Bulk Rate            692703 non-null  int64  \n",
      " 62  Subflow Fwd Packets          692703 non-null  int64  \n",
      " 63  Subflow Fwd Bytes            692703 non-null  int64  \n",
      " 64  Subflow Bwd Packets          692703 non-null  int64  \n",
      " 65  Subflow Bwd Bytes            692703 non-null  int64  \n",
      " 66  Init_Win_bytes_forward       692703 non-null  int64  \n",
      " 67  Init_Win_bytes_backward      692703 non-null  int64  \n",
      " 68  act_data_pkt_fwd             692703 non-null  int64  \n",
      " 69  min_seg_size_forward         692703 non-null  int64  \n",
      " 70  Active Mean                  692703 non-null  float64\n",
      " 71  Active Std                   692703 non-null  float64\n",
      " 72  Active Max                   692703 non-null  int64  \n",
      " 73  Active Min                   692703 non-null  int64  \n",
      " 74  Idle Mean                    692703 non-null  float64\n",
      " 75  Idle Std                     692703 non-null  float64\n",
      " 76  Idle Max                     692703 non-null  int64  \n",
      " 77  Idle Min                     692703 non-null  int64  \n",
      " 78  Label                        692703 non-null  object \n",
      "dtypes: float64(24), int64(54), object(1)\n",
      "memory usage: 417.5+ MB\n"
     ]
    }
   ],
   "source": [
    "data_combined.info()"
   ]
  },
  {
   "cell_type": "code",
   "execution_count": 116,
   "id": "6797bd33-28d8-4f3c-96c2-13c8e42be1be",
   "metadata": {},
   "outputs": [
    {
     "name": "stdout",
     "output_type": "stream",
     "text": [
      "Dublikātu skaits: 81909\n"
     ]
    }
   ],
   "source": [
    "# Daru tīrīšana\n",
    "# Dublētu vērtību identificēšana\n",
    "dups = data_combined[data_combined.duplicated()]\n",
    "print(f'Dublikātu skaits: {len(dups)}')"
   ]
  },
  {
   "cell_type": "code",
   "execution_count": 117,
   "id": "ea51db5e-2ab6-4a1b-9e81-11a742bdb08f",
   "metadata": {},
   "outputs": [
    {
     "data": {
      "text/plain": [
       "(610794, 79)"
      ]
     },
     "execution_count": 117,
     "metadata": {},
     "output_type": "execute_result"
    }
   ],
   "source": [
    "# Noņemam visus dubultos ierakstus\n",
    "data_combined.drop_duplicates(inplace = True)\n",
    "data_combined.shape"
   ]
  },
  {
   "cell_type": "code",
   "execution_count": 118,
   "id": "4e68b1c6-c3d1-4e66-b66c-0401954892a0",
   "metadata": {},
   "outputs": [
    {
     "name": "stdout",
     "output_type": "stream",
     "text": [
      "Flow Bytes/s    61\n",
      "dtype: int64\n"
     ]
    }
   ],
   "source": [
    "# Trūkstošo vērtību noteikšana\n",
    "missing_val = data_combined.isna().sum()\n",
    "print(missing_val.loc[missing_val > 0])"
   ]
  },
  {
   "cell_type": "code",
   "execution_count": 119,
   "id": "6defb6a0-fcec-43a9-93d6-2218f92af10e",
   "metadata": {},
   "outputs": [
    {
     "name": "stdout",
     "output_type": "stream",
     "text": [
      "Flow Bytes/s      241\n",
      "Flow Packets/s    302\n",
      "dtype: int64\n"
     ]
    }
   ],
   "source": [
    "# Bezgalības vērtību pārbaude\n",
    "numeric_cols = data_combined.select_dtypes(include = np.number).columns\n",
    "inf_count = np.isinf(data_combined[numeric_cols]).sum()\n",
    "print(inf_count[inf_count > 0])"
   ]
  },
  {
   "cell_type": "code",
   "execution_count": 120,
   "id": "7db78fc9-0c3b-4e75-be24-1fd1b85f9e04",
   "metadata": {},
   "outputs": [
    {
     "name": "stdout",
     "output_type": "stream",
     "text": [
      "Trūkstošās vērtības: 61\n",
      "Pēc bezgalīgu vērtību apstrādes trūkstošo vērtību skaits: 604\n"
     ]
    }
   ],
   "source": [
    "# Jebkuru bezgalīgu vērtību (pozitīvu vai negatīvu) aizstāšana ar NaN (nevis skaitli)\n",
    "print(f'Trūkstošās vērtības: {data_combined.isna().sum().sum()}')\n",
    "\n",
    "data_combined.replace([np.inf, -np.inf], np.nan, inplace = True)\n",
    "\n",
    "print(f'Pēc bezgalīgu vērtību apstrādes trūkstošo vērtību skaits: {data_combined.isna().sum().sum()}')"
   ]
  },
  {
   "cell_type": "code",
   "execution_count": 121,
   "id": "3f76d453-5f04-4e53-825a-ba60dac452c3",
   "metadata": {},
   "outputs": [
    {
     "name": "stdout",
     "output_type": "stream",
     "text": [
      "Flow Bytes/s      302\n",
      "Flow Packets/s    302\n",
      "dtype: int64\n"
     ]
    }
   ],
   "source": [
    "# Identificējam un saskaitītām trūkstošās vērtības\n",
    "missing = data_combined.isna().sum()\n",
    "print(missing.loc[missing > 0])"
   ]
  },
  {
   "cell_type": "code",
   "execution_count": 122,
   "id": "38f015a4-b4c7-4a62-9e39-3f3a6827e78f",
   "metadata": {},
   "outputs": [
    {
     "name": "stdout",
     "output_type": "stream",
     "text": [
      "Flow Bytes/s      0.05\n",
      "Flow Packets/s    0.05\n",
      "dtype: float64\n"
     ]
    }
   ],
   "source": [
    "# Trūkstošo vērtību procentuālās daļas aprēķināšana\n",
    "mis_per = (missing / len(data_combined)) * 100\n",
    "print(mis_per[mis_per > 0].round(2))"
   ]
  },
  {
   "cell_type": "code",
   "execution_count": 123,
   "id": "04cf1eb4-e872-41c5-bcec-a2026f49c7f8",
   "metadata": {},
   "outputs": [
    {
     "name": "stdout",
     "output_type": "stream",
     "text": [
      "Trūkstošo 'Flow Bytes/s' vērtību skaits: 0\n",
      "Trūkstošo 'Flow Packets/s' vērtību skaits: 0\n"
     ]
    }
   ],
   "source": [
    "# Mediānas noteikšana\n",
    "med_flow_bytes = data_combined['Flow Bytes/s'].median()\n",
    "med_flow_packets = data_combined['Flow Packets/s'].median()\n",
    "\n",
    "# Trūkstošo vērtību aizpildīšana ar mediānu\n",
    "data_combined['Flow Bytes/s'] = data_combined['Flow Bytes/s'].fillna(med_flow_bytes)\n",
    "data_combined['Flow Packets/s'] = data_combined['Flow Packets/s'].fillna(med_flow_packets)\n",
    "\n",
    "print('Trūkstošo \\'Flow Bytes/s\\' vērtību skaits:', data_combined['Flow Bytes/s'].isna().sum())\n",
    "print('Trūkstošo \\'Flow Packets/s\\' vērtību skaits:', data_combined['Flow Packets/s'].isna().sum())"
   ]
  },
  {
   "cell_type": "code",
   "execution_count": 124,
   "id": "043bcf0b-3159-4f58-ba34-549e23733c02",
   "metadata": {},
   "outputs": [
    {
     "data": {
      "image/png": "[encoded data removed]",
      "text/plain": [
       "<Figure size 1200x600 with 1 Axes>"
      ]
     },
     "metadata": {},
     "output_type": "display_data"
    }
   ],
   "source": [
    "# Izveidojam vārdnīcu, kurā katra uzbrukuma veidi tiek sagrupēti kategorijās\n",
    "attack_map = {\n",
    "    'BENIGN': 'BENIGN',\n",
    "    'DDoS': 'DDoS',\n",
    "    'DoS Hulk': 'DoS',\n",
    "    'DoS GoldenEye': 'DoS',\n",
    "    'DoS slowloris': 'DoS',\n",
    "    'DoS Slowhttptest': 'DoS',\n",
    "    'Heartbleed': 'Heartbleed'\n",
    "}\n",
    "\n",
    "# \"Attack Type\" definēšana\n",
    "data_combined['Attack Type'] = data_combined['Label'].map(attack_map)\n",
    "\n",
    "import matplotlib.pyplot as plt\n",
    "import seaborn as sns\n",
    "\n",
    "# Izmantojam visus izņemot \"BENIGN\"\n",
    "attacks = data_combined.loc[data_combined['Attack Type'] != 'BENIGN']\n",
    "\n",
    "plt.figure(figsize=(12, 6))\n",
    "ax = sns.countplot(\n",
    "    x='Attack Type',\n",
    "    hue='Attack Type',\n",
    "    data=attacks,\n",
    "    palette='pastel',\n",
    "    order=attacks['Attack Type'].value_counts().index,\n",
    "    legend=False\n",
    ")\n",
    "plt.title('Uzbrukumu veidi (izņemot BENIGN)')\n",
    "plt.xlabel('Uzbrukuma veids')\n",
    "plt.ylabel('Skaits')\n",
    "plt.xticks(rotation=45)\n",
    "\n",
    "for p in ax.patches:\n",
    "    ax.annotate(\n",
    "        f'{p.get_height():.0f}', (p.get_x() + p.get_width() / 2., p.get_height() * 1.01), ha='center')\n",
    "\n",
    "plt.tight_layout()\n",
    "plt.show()"
   ]
  },
  {
   "cell_type": "code",
   "execution_count": 125,
   "id": "c0604384-844a-4ae5-9f4c-5acd97bf85ea",
   "metadata": {},
   "outputs": [],
   "source": [
    "# Atdalām iezīmes (X) un mērķa mainīgo (y)\n",
    "X = data_combined.drop(['Label', 'Attack Type'], axis=1)\n",
    "y = data_combined['Label']\n",
    "\n",
    "# Sadalām datus treniņu un testēšanas kopās (70/30)\n",
    "X_train, X_test, y_train, y_test = train_test_split(X, y, test_size=0.3, random_state=0)\n",
    "\n",
    "# Standartizējam datu iezīmes\n",
    "scaler = StandardScaler()\n",
    "X_train = scaler.fit_transform(X_train)\n",
    "X_test = scaler.transform(X_test)"
   ]
  },
  {
   "cell_type": "code",
   "execution_count": 126,
   "id": "f11a7746-5276-4b81-bbf9-afe2f01aa163",
   "metadata": {},
   "outputs": [
    {
     "name": "stdout",
     "output_type": "stream",
     "text": [
      "Klasifikators tika apmācīts 6.454 sekundēs.\n",
      "Prognoze tika iegūta 0.041 sekundēs.\n",
      "Lēmumu koka modelis\n",
      "Accuracy on test set: 0.9854343235\n"
     ]
    }
   ],
   "source": [
    "from sklearn.tree import DecisionTreeClassifier\n",
    "# Apmāca Decision Tree modeli\n",
    "dt = DecisionTreeClassifier(max_depth=6)\n",
    "t0 = time()\n",
    "dt.fit(X_train, y_train)\n",
    "tt0 = time() - t0\n",
    "print (\"Klasifikators tika apmācīts {} sekundēs.\".format(round(tt0, 3)))\n",
    "\n",
    "t1 = time()\n",
    "# Paredz rezultātus uz testu datiem\n",
    "y_pred_dt = dt.predict(X_test)\n",
    "tt1 = time() - t1\n",
    "print (\"Prognoze tika iegūta {} sekundēs.\".format(round(tt1,3)))\n",
    "# Novērtē precizitāti\n",
    "accuracy_dt = accuracy_score(y_test, y_pred_dt)\n",
    "\n",
    "# Izvada rezultātu\n",
    "print('Lēmumu koka modelis')\n",
    "print(f'Accuracy on test set: {accuracy_dt:.10f}')"
   ]
  },
  {
   "cell_type": "code",
   "execution_count": null,
   "id": "def51320-0dc1-4c4b-a3fa-cdc35970fa39",
   "metadata": {},
   "outputs": [
    {
     "name": "stdout",
     "output_type": "stream",
     "text": [
      "Klasifikators tika apmācīts 0.505 sekundēs.\n"
     ]
    }
   ],
   "source": [
    "from sklearn.neighbors import KNeighborsClassifier\n",
    "\n",
    "knn = KNeighborsClassifier(n_neighbors=5)\n",
    "\n",
    "# Apmāca modeli\n",
    "t2 = time()\n",
    "knn.fit(X_train, y_train)\n",
    "tt2 = time() - t2\n",
    "print(\"Klasifikators tika apmācīts {} sekundēs.\".format(round(tt2, 3)))\n",
    "\n",
    "# Paredz rezultātus uz testu datiem\n",
    "t3 = time()\n",
    "y_pred_knn = knn.predict(X_test)\n",
    "tt3 = time() - t3\n",
    "print(\"Prognoze tika iegūta {} sekundēs.\".format(round(tt3, 3)))\n",
    "\n",
    "# Novērtē precizitāti\n",
    "accuracy_knn = accuracy_score(y_test, y_pred_knn)\n",
    "\n",
    "# Izvada rezultātu\n",
    "print('KNN modelis')\n",
    "print(f'Accuracy on test set: {accuracy_knn:.10f}')"
   ]
  },
  {
   "cell_type": "code",
   "execution_count": null,
   "id": "0fefa212-5177-4fc3-a842-d185dbec86a2",
   "metadata": {},
   "outputs": [],
   "source": [
    "from sklearn.naive_bayes import GaussianNB\n",
    "# Apmāca Gaussian Naive Bayes modeli\n",
    "gnb = GaussianNB()\n",
    "t5 = time()\n",
    "gnb.fit(X_train, y_train)\n",
    "tt5 = time() - t5\n",
    "print(\"Klasifikators tika apmācīts {} sekundēs.\".format(round(tt5, 3)))\n",
    "\n",
    "# Paredz rezultātus uz testu datiem\n",
    "t6 = time()\n",
    "y_pred_gnb = gnb.predict(X_test)\n",
    "tt6 = time() - t6\n",
    "print(\"Prognoze tika iegūta {} sekundēs.\".format(round(tt6, 3)))\n",
    "\n",
    "# Novērtē precizitāti\n",
    "accuracy_gnb = accuracy_score(y_test, y_pred_gnb)\n",
    "print('Naive Bayes modelis')\n",
    "print(f'Accuracy on test set: {accuracy_gnb:.10f}')"
   ]
  },
  {
   "cell_type": "code",
   "execution_count": null,
   "id": "86748634-0bb3-488c-bbc7-39caf4a94016",
   "metadata": {},
   "outputs": [],
   "source": [
    "from sklearn.metrics import ConfusionMatrixDisplay, confusion_matrix\n",
    "\n",
    "cm_dt = confusion_matrix(y_test, y_pred_dt)\n",
    "unique_labels = sorted(data_combined['Label'].unique())\n",
    "\n",
    "disp_dt = ConfusionMatrixDisplay(confusion_matrix=cm_dt, display_labels=unique_labels)\n",
    "disp_dt.plot(cmap='Blues')\n",
    "plt.xticks(rotation=90)\n",
    "plt.title('Confusion Matrix – Decision Tree')\n",
    "plt.show()"
   ]
  },
  {
   "cell_type": "code",
   "execution_count": null,
   "id": "217180aa-658f-48d6-b2ff-09c60e08f02e",
   "metadata": {},
   "outputs": [],
   "source": [
    "# Iegūstam un sakārtojam unikālās iezīmju (Label) vērtības no datiem\n",
    "cm_knn = confusion_matrix(y_test, y_pred_knn)\n",
    "unique_labels = sorted(data_combined['Label'].unique())\n",
    "\n",
    "disp_knn = ConfusionMatrixDisplay(confusion_matrix=cm_knn, display_labels=unique_labels)\n",
    "disp_knn.plot(cmap='Blues')\n",
    "plt.xticks(rotation=90)\n",
    "plt.title('Confusion Matrix – K-Nearest Neighbors')\n",
    "plt.show()"
   ]
  },
  {
   "cell_type": "code",
   "execution_count": null,
   "id": "462b49c4-a6c7-4a01-a0d9-09597c50c382",
   "metadata": {},
   "outputs": [],
   "source": [
    "# Iegūstam un sakārtojam unikālās etiķetes\n",
    "cm_gnb = confusion_matrix(y_test, y_pred_gnb)\n",
    "unique_labels = sorted(data_combined['Label'].unique())\n",
    "\n",
    "disp_gnb = ConfusionMatrixDisplay(confusion_matrix=cm_gnb, display_labels=unique_labels)\n",
    "disp_gnb.plot(cmap='Blues')\n",
    "plt.xticks(rotation=90)\n",
    "plt.title('Confusion Matrix – Gaussian Naive Bayes')\n",
    "plt.show()"
   ]
  },
  {
   "cell_type": "code",
   "execution_count": null,
   "id": "dc620675-9bf4-4bbb-af6c-307b7aa71969",
   "metadata": {},
   "outputs": [],
   "source": [
    "# Izvada detalizētu pārskatu par modeļu precizitāti\n",
    "print(\"Decision Tree – Classification Report\")\n",
    "print(classification_report(y_test, y_pred_dt, target_names=unique_labels))"
   ]
  },
  {
   "cell_type": "code",
   "execution_count": null,
   "id": "d2acc495-189e-4e29-a772-d05bcc33a896",
   "metadata": {},
   "outputs": [],
   "source": [
    "print(\"K-Nearest Neighbors – Classification Report\")\n",
    "print(classification_report(y_test, y_pred_knn, target_names=unique_labels))"
   ]
  },
  {
   "cell_type": "code",
   "execution_count": null,
   "id": "e95cdba8-e840-4ce9-90c7-77a317744276",
   "metadata": {},
   "outputs": [],
   "source": [
    "print(\"Naive Bayes – Classification Report\")\n",
    "print(classification_report(y_test, y_pred_gnb, target_names=unique_labels))"
   ]
  },
  {
   "cell_type": "code",
   "execution_count": null,
   "id": "386706c4-4360-4834-a7fa-0365e11dfc84",
   "metadata": {},
   "outputs": [],
   "source": [
    "print(\"Model Comparison\")\n",
    "print(\"-------------------------------\")\n",
    "print(f\"Decision Tree Accuracy: {accuracy_dt:.4f}\")\n",
    "print(f\"KNN Accuracy:           {accuracy_knn:.4f}\")\n",
    "print(f\"Naive Bayes Accuracy:   {accuracy_gnb:.4f}\")"
   ]
  }
 ],
 "metadata": {
  "kernelspec": {
   "display_name": "Python [conda env:Orange]",
   "language": "python",
   "name": "conda-env-Orange-py"
  },
  "language_info": {
   "codemirror_mode": {
    "name": "ipython",
    "version": 3
   },
   "file_extension": ".py",
   "mimetype": "text/x-python",
   "name": "python",
   "nbconvert_exporter": "python",
   "pygments_lexer": "ipython3",
   "version": "3.9.12"
  }
 },
 "nbformat": 4,
 "nbformat_minor": 5
}
